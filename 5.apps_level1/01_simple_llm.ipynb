{
 "cells": [
  {
   "cell_type": "markdown",
   "metadata": {},
   "source": [
    "# Crear una aplicación simple con LangChain e integrarla con LangServe\n",
    "* Objetivo de la aplicación: Traducir texto del inglés a otro idioma\n",
    "* Segunda versión: Cómo crear esta aplicación utilizando un idioma distinto al inglés"
   ]
  },
  {
   "cell_type": "markdown",
   "metadata": {},
   "source": [
    "# Conceptos incluidos\n",
    "* Monitorear la aplicación con LangSmith\n",
    "* Conectar con un LLM\n",
    "* Uso de 'Prompt Template'\n",
    "* Uso de 'Output Parser'\n",
    "* Encadenar el 'Prompt Template', la llamada al LLM y formatear la salida con 'Output Parser'"
   ]
  },
  {
   "cell_type": "code",
   "execution_count": 6,
   "metadata": {},
   "outputs": [],
   "source": [
    "import os\n",
    "\n",
    "from dotenv import load_dotenv, find_dotenv\n",
    "from langchain_openai import ChatOpenAI\n",
    "from langchain_core.output_parsers import StrOutputParser\n",
    "from langchain_core.prompts import ChatPromptTemplate\n",
    "\n",
    "\n",
    "_ = load_dotenv(find_dotenv())\n",
    "openai_api_key = os.environ['OPENAI_API_KEY']\n",
    "\n",
    "# Creamos el modelo a utilizar\n",
    "chatModel = ChatOpenAI(model=\"gpt-4o-mini\")\n",
    "\n",
    "# Creamos nuestro formateador de salida\n",
    "output_parser = StrOutputParser()\n"
   ]
  },
  {
   "cell_type": "code",
   "execution_count": 2,
   "metadata": {},
   "outputs": [],
   "source": [
    "from langchain_core.messages import HumanMessage, SystemMessage\n",
    "\n",
    "messagesToTheLLM = [\n",
    "    SystemMessage(content=\"Traduce el siguiente texto de Inglés a Español\"),\n",
    "    HumanMessage(content=\"Generative AI is the greatest value-creation opportunity in Human History.\"),\n",
    "]\n",
    "\n",
    "# System Message: Define el rol que el modelo LLM tomará para darnos la respuesta\n",
    "# Human Message: Hace referencia a la entrada del usuario"
   ]
  },
  {
   "cell_type": "markdown",
   "metadata": {},
   "source": [
    "### Paso 1: Llamamos al modelo"
   ]
  },
  {
   "cell_type": "code",
   "execution_count": 4,
   "metadata": {},
   "outputs": [],
   "source": [
    "response_llm = chatModel.invoke(messagesToTheLLM)"
   ]
  },
  {
   "cell_type": "markdown",
   "metadata": {},
   "source": [
    "### Usamos 'OutputParser' para formatear la respuesta del LLM"
   ]
  },
  {
   "cell_type": "code",
   "execution_count": 7,
   "metadata": {},
   "outputs": [
    {
     "name": "stdout",
     "output_type": "stream",
     "text": [
      "La IA generativa es la mayor oportunidad de creación de valor en la historia de la humanidad.\n"
     ]
    }
   ],
   "source": [
    "response_formatted = output_parser.invoke(response_llm)\n",
    "print(response_formatted)"
   ]
  },
  {
   "cell_type": "markdown",
   "metadata": {},
   "source": [
    "### También podemos en una cadena llamar al modelo LLM y formatear la salida"
   ]
  },
  {
   "cell_type": "code",
   "execution_count": 8,
   "metadata": {},
   "outputs": [
    {
     "data": {
      "text/plain": [
       "'La IA generativa es la mayor oportunidad de creación de valor en la historia de la humanidad.'"
      ]
     },
     "execution_count": 8,
     "metadata": {},
     "output_type": "execute_result"
    }
   ],
   "source": [
    "response_from_chain = chatModel | output_parser\n",
    "\n",
    "response_from_chain.invoke(messagesToTheLLM)"
   ]
  }
 ],
 "metadata": {
  "kernelspec": {
   "display_name": "langchain-demos-9seDwfcA-py3.12",
   "language": "python",
   "name": "python3"
  },
  "language_info": {
   "codemirror_mode": {
    "name": "ipython",
    "version": 3
   },
   "file_extension": ".py",
   "mimetype": "text/x-python",
   "name": "python",
   "nbconvert_exporter": "python",
   "pygments_lexer": "ipython3",
   "version": "3.12.7"
  }
 },
 "nbformat": 4,
 "nbformat_minor": 2
}
