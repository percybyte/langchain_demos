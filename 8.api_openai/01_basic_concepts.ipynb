{
 "cells": [
  {
   "cell_type": "code",
   "execution_count": 1,
   "id": "1e7c883a-aedb-4eca-a327-f1fca2bfae15",
   "metadata": {},
   "outputs": [],
   "source": [
    "import os\n",
    "from dotenv import load_dotenv, find_dotenv\n",
    "_ = load_dotenv(find_dotenv())\n",
    "openai_api_key = os.environ[\"OPENAI_API_KEY\"]"
   ]
  },
  {
   "cell_type": "code",
   "execution_count": 2,
   "id": "da20ec35-bdb5-4597-83e2-cc09307946f8",
   "metadata": {},
   "outputs": [],
   "source": [
    "os.environ['PYDEVD_DISABLE_FILE_VALIDATION'] = '1'"
   ]
  },
  {
   "cell_type": "code",
   "execution_count": 3,
   "id": "76ec3259-78bb-48c6-9fd7-4e16e6634c13",
   "metadata": {},
   "outputs": [],
   "source": [
    "import openai\n",
    "import json"
   ]
  },
  {
   "cell_type": "code",
   "execution_count": 4,
   "id": "52ca8c1b-ce8c-4e38-8a27-cde2dbf428cc",
   "metadata": {},
   "outputs": [],
   "source": [
    "import pandas as pd"
   ]
  },
  {
   "cell_type": "code",
   "execution_count": 5,
   "id": "96d9ab82-7296-4675-8dcf-9e20f4c64dd1",
   "metadata": {},
   "outputs": [],
   "source": [
    "openai.api_key = openai_api_key"
   ]
  },
  {
   "cell_type": "code",
   "execution_count": 6,
   "id": "fc817330-3d4b-40e1-a6ea-53467b837401",
   "metadata": {},
   "outputs": [],
   "source": [
    "def get_prompt_financial():\n",
    "    return '''Please retrieve company name, revenue, net income and earnings per share (a.k.a. EPS)\n",
    "    from the following news article. If you can't find the information from this article \n",
    "    then return \"\". Do not make things up.    \n",
    "    Then retrieve a stock symbol corresponding to that company. For this you can use\n",
    "    your general knowledge (it doesn't have to be from this article). Always return your\n",
    "    response as a valid JSON string. The format of that string should be this, \n",
    "    {\n",
    "        \"Company Name\": \"Walmart\",\n",
    "        \"Stock Symbol\": \"WMT\",\n",
    "        \"Revenue\": \"12.34 million\",\n",
    "        \"Net Income\": \"34.78 million\",\n",
    "        \"EPS\": \"2.1 $\"\n",
    "    }\n",
    "    News Article:\n",
    "    ============\n",
    "\n",
    "    '''"
   ]
  },
  {
   "cell_type": "code",
   "execution_count": 7,
   "id": "5f54d98a-c688-4c8a-be15-55cc8f02d9db",
   "metadata": {},
   "outputs": [],
   "source": [
    "def extract_financial_data(financial_article):\n",
    "    prompt = get_prompt_financial() + financial_article\n",
    "    \n",
    "    response = openai.ChatCompletion.create(\n",
    "        model=\"gpt-3.5-turbo\",\n",
    "        messages=[{\"role\": \"user\",\"content\": prompt}]\n",
    "    )\n",
    "    \n",
    "    content = response.choices[0]['message']['content']\n",
    "\n",
    "    try:\n",
    "        data = json.loads(content)\n",
    "        return pd.DataFrame(\n",
    "            data.items(), \n",
    "            columns=[\"Measure\", \"Value\"]\n",
    "        )\n",
    "\n",
    "    except (json.JSONDecodeError, IndexError):\n",
    "        pass\n",
    "\n",
    "    return pd.DataFrame({\n",
    "        \"Measure\": [\"Company Name\", \"Stock Symbol\", \"Revenue\", \"Net Income\", \"EPS\"],\n",
    "        \"Value\": [\"\", \"\", \"\", \"\", \"\"]\n",
    "    })"
   ]
  },
  {
   "cell_type": "code",
   "execution_count": 8,
   "id": "410c21c3-8387-4b1b-ad16-e3c8b76e0b34",
   "metadata": {},
   "outputs": [],
   "source": [
    "text = '''\n",
    "    Tesla's Earning news in text format: Tesla's earning this \n",
    "    quarter blew all the estimates. They reported 4.5 billion $ \n",
    "    profit against a revenue of 30 billion $. Their earnings \n",
    "    per share was 2.3 $\n",
    "    '''"
   ]
  },
  {
   "cell_type": "code",
   "execution_count": 9,
   "id": "2698478f-9a6c-4082-9621-d66d55819a7a",
   "metadata": {},
   "outputs": [],
   "source": [
    "df = extract_financial_data(text)"
   ]
  },
  {
   "cell_type": "code",
   "execution_count": 11,
   "id": "6668fee6-700e-4ea6-ac65-6a6c904900ad",
   "metadata": {},
   "outputs": [
    {
     "name": "stdout",
     "output_type": "stream",
     "text": [
      "        Measure          Value\n",
      "0  Company Name          Tesla\n",
      "1  Stock Symbol           TSLA\n",
      "2       Revenue   30 billion $\n",
      "3    Net Income  4.5 billion $\n",
      "4           EPS          2.3 $\n"
     ]
    }
   ],
   "source": [
    "print(df.to_string())"
   ]
  },
  {
   "cell_type": "code",
   "execution_count": null,
   "id": "7a7b0e18",
   "metadata": {},
   "outputs": [],
   "source": []
  }
 ],
 "metadata": {
  "kernelspec": {
   "display_name": "Python 3 (ipykernel)",
   "language": "python",
   "name": "python3"
  },
  "language_info": {
   "codemirror_mode": {
    "name": "ipython",
    "version": 3
   },
   "file_extension": ".py",
   "mimetype": "text/x-python",
   "name": "python",
   "nbconvert_exporter": "python",
   "pygments_lexer": "ipython3",
   "version": "3.10.13"
  }
 },
 "nbformat": 4,
 "nbformat_minor": 5
}
