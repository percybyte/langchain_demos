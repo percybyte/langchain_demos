{
 "cells": [
  {
   "cell_type": "markdown",
   "metadata": {},
   "source": [
    "# Cadena LCEL en funcionamiento en una aplicación RAG típica"
   ]
  },
  {
   "cell_type": "code",
   "execution_count": null,
   "metadata": {},
   "outputs": [],
   "source": [
    "import os\n",
    "\n",
    "from dotenv import load_dotenv, find_dotenv\n",
    "from langchain_openai import ChatOpenAI, OpenAIEmbeddings\n",
    "from langchain_core.output_parsers import StrOutputParser\n",
    "from langchain_core.prompts import ChatPromptTemplate\n",
    "from langchain.chains import LLMChain\n",
    "from langchain_core.messages.human import HumanMessage\n",
    "from langchain_core.messages.ai import AIMessage\n",
    "from langchain_core.runnables import RunnablePassthrough, RunnableLambda, RunnableParallel\n",
    "\n",
    "_ = load_dotenv(find_dotenv())\n",
    "openai_api_key = os.environ['OPENAI_API_KEY']\n",
    "model = ChatOpenAI(model=\"gpt-4o-mini\")\n",
    "output_parser = StrOutputParser()"
   ]
  },
  {
   "cell_type": "markdown",
   "metadata": {},
   "source": [
    "## Veamos cómo funciona esto con un ejemplo típico de RAG"
   ]
  },
  {
   "cell_type": "code",
   "execution_count": null,
   "metadata": {},
   "outputs": [],
   "source": [
    "import bs4\n",
    "from langchain import hub\n",
    "from langchain_chroma import Chroma\n",
    "from langchain_community.document_loaders import WebBaseLoader\n",
    "from langchain_core.output_parsers import StrOutputParser\n",
    "from langchain_core.runnables import RunnablePassthrough\n",
    "from langchain_openai import OpenAIEmbeddings\n",
    "from langchain_text_splitters import RecursiveCharacterTextSplitter\n",
    "\n",
    "\n",
    "# Carga documentos desde una URL específica, filtrando por clases HTML\n",
    "loader = WebBaseLoader(\n",
    "    web_paths=(\"https://lilianweng.github.io/posts/2023-06-23-agent/\",),\n",
    "    bs_kwargs=dict(\n",
    "        parse_only=bs4.SoupStrainer( # Filtra solo ciertos elementos del HTML\n",
    "            class_=(\"post-content\", \"post-title\", \"post-header\")\n",
    "        )\n",
    "    ),\n",
    ")\n",
    "\n",
    "# Carga los documentos filtrados desde la URL\n",
    "docs = loader.load()\n",
    "\n",
    "# Inicializa el splitter de texto para dividir documentos en partes más pequeñas\n",
    "text_splitter = RecursiveCharacterTextSplitter(chunk_size=1000, chunk_overlap=200)\n",
    "\n",
    "# Divide los documentos en partes según la configuración del splitter\n",
    "splits = text_splitter.split_documents(docs)\n",
    "\n",
    "# Crea un vector store a partir de los documentos divididos usando embeddings de OpenAI\n",
    "vectorstore = Chroma.from_documents(documents=splits, embedding=OpenAIEmbeddings())\n",
    "\n",
    "# Crea un retriever a partir del vector store para realizar búsquedas\n",
    "retriever = vectorstore.as_retriever()\n",
    "\n",
    "# Obtiene un prompt predefinido desde el hub de LangChain\n",
    "prompt = hub.pull(\"rlm/rag-prompt\")\n",
    "\n",
    "# Función para formatear documentos a una cadena\n",
    "def format_docs(docs):\n",
    "    return \"\\n\\n\".join(doc.page_content for doc in docs)\n",
    "\n",
    "# Define una cadena RAG (Retrieval-Augmented Generation) combinando retriever, formato y modelo\n",
    "rag_chain = (\n",
    "    {\"context\": retriever | format_docs, \"question\": RunnablePassthrough()}\n",
    "    | prompt\n",
    "    | model\n",
    "    | StrOutputParser()\n",
    ")"
   ]
  },
  {
   "cell_type": "markdown",
   "metadata": {},
   "source": [
    "* Vea a continuación que el mensaje que hemos importado del hub tiene 2 variables: \"contexto\" y \"pregunta\"."
   ]
  },
  {
   "cell_type": "code",
   "execution_count": null,
   "metadata": {},
   "outputs": [],
   "source": [
    "prompt"
   ]
  },
  {
   "cell_type": "code",
   "execution_count": null,
   "metadata": {},
   "outputs": [],
   "source": [
    "rag_chain.invoke(\"What is Task Decomposition?\")"
   ]
  },
  {
   "cell_type": "markdown",
   "metadata": {},
   "source": [
    "#### Veamos en detalle la cadena LCEL:\n",
    "* Como puedes ver, la primera parte de la cadena es un RunnableParallel (recuerda que RunnableParallel puede tener más de una sintaxis):"
   ]
  },
  {
   "cell_type": "code",
   "execution_count": null,
   "metadata": {},
   "outputs": [],
   "source": [
    "rag_chain = (\n",
    "    RunnableParallel({\"context\": retriever | format_docs, \"question\": RunnablePassthrough()})\n",
    "    | prompt\n",
    "    | model\n",
    "    | StrOutputParser()\n",
    ")"
   ]
  },
  {
   "cell_type": "code",
   "execution_count": null,
   "metadata": {},
   "outputs": [],
   "source": [
    "rag_chain.invoke(\"What is Task Decomposition?\")"
   ]
  },
  {
   "cell_type": "markdown",
   "metadata": {},
   "source": [
    "Así es como funciona esta cadena cuando la invocamos:\n",
    "* \"¿Qué es la descomposición de tareas?\" se pasa como entrada única.\n",
    "* `context` ejecuta el recuperador sobre la entrada.\n",
    "* format_docs ejecuta la función formateadora sobre la entrada.\n",
    "* La entrada se asigna a `question`.\n",
    "* el mensaje se define utilizando las variables `question` y `context` anteriores.\n",
    "* el modelo se ejecuta con el mensaje anterior.\n",
    "* el analizador de salida se ejecuta sobre la respuesta del modelo."
   ]
  },
  {
   "cell_type": "markdown",
   "metadata": {},
   "source": [
    "#### Nota: ¿qué hace la función de formateo anterior?\n",
    "La función `format_docs` toma una lista de objetos llamados `docs`. Se espera que cada objeto de esta lista tenga un atributo llamado `page_content`, que almacena el contenido textual de cada documento.\n",
    "\n",
    "El propósito de la función es extraer el `page_content` de cada documento en la lista `docs` y luego combinar estos contenidos en una sola cadena. El contenido de los diferentes documentos está separado por dos caracteres de nueva línea (`\\n\\n`), lo que significa que habrá una línea vacía entre el contenido de cada documento en la cadena final. Esta opción de formato hace que el contenido combinado sea más fácil de leer al separar claramente el contenido de los diferentes documentos.\n",
    "\n",
    "A continuación, se muestra un desglose de cómo funciona la función:\n",
    "1. La parte `for doc in docs` itera sobre cada objeto en la lista `docs`.\n",
    "2. Para cada iteración, `doc.page_content` accede al atributo `page_content` del documento actual, que contiene su contenido textual.\n",
    "3. El método `join` toma estos fragmentos de texto y los concatena en una sola cadena, insertando `\\n\\n` entre cada fragmento para garantizar que estén separados por una línea en blanco en el resultado final.\n",
    "\n",
    "La función finalmente devuelve esta cadena única recién formateada que contiene todos los contenidos del documento, separados prolijamente por líneas en blanco."
   ]
  }
 ],
 "metadata": {
  "kernelspec": {
   "display_name": "langchain-demos-9seDwfcA-py3.12",
   "language": "python",
   "name": "python3"
  },
  "language_info": {
   "name": "python",
   "version": "3.12.7"
  }
 },
 "nbformat": 4,
 "nbformat_minor": 2
}
