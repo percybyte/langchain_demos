{
 "cells": [
  {
   "cell_type": "code",
   "execution_count": 3,
   "metadata": {},
   "outputs": [],
   "source": [
    "import os\n",
    "\n",
    "from dotenv import load_dotenv, find_dotenv\n",
    "from langchain_openai import ChatOpenAI\n",
    "from langchain_core.output_parsers import StrOutputParser\n",
    "from langchain_core.prompts import ChatPromptTemplate\n",
    "from langchain.chains import LLMChain\n",
    "\n",
    "_ = load_dotenv(find_dotenv())\n",
    "openai_api_key = os.environ['OPENAI_API_KEY']\n",
    "chatModel = ChatOpenAI(model=\"gpt-4o-mini\")\n",
    "output_parser = StrOutputParser()\n"
   ]
  },
  {
   "cell_type": "markdown",
   "metadata": {},
   "source": [
    "### Legacy Chain"
   ]
  },
  {
   "cell_type": "code",
   "execution_count": null,
   "metadata": {},
   "outputs": [
    {
     "name": "stderr",
     "output_type": "stream",
     "text": [
      "/var/folders/t6/v_c5j_393gv3znx2h9x3w8nc0000gn/T/ipykernel_20226/76039523.py:4: LangChainDeprecationWarning: The class `LLMChain` was deprecated in LangChain 0.1.17 and will be removed in 1.0. Use :meth:`~RunnableSequence, e.g., `prompt | llm`` instead.\n",
      "  tradicional_chain = LLMChain(\n"
     ]
    },
    {
     "data": {
      "text/plain": [
       "'Un dato curioso sobre Lionel Messi es que, a pesar de ser uno de los mejores futbolistas de todos los tiempos, tuvo que enfrentar desafíos significativos en su infancia. A los 11 años, fue diagnosticado con un trastorno de crecimiento que requería un tratamiento costoso. El FC Barcelona decidió respaldar su tratamiento y lo incorporó a su academia juvenil, La Masía. Esta decisión cambió su vida y le permitió desarrollarse como el futbolista excepcional que conocemos hoy. Además, Messi es conocido por su humildad y su dedicación al deporte, lo que lo ha convertido en un modelo a seguir para millones de personas alrededor del mundo.'"
      ]
     },
     "execution_count": 2,
     "metadata": {},
     "output_type": "execute_result"
    }
   ],
   "source": [
    "prompt_template = ChatPromptTemplate.from_template(\"Dime algo curioso sobre {soccer_player}\")\n",
    "\n",
    "tradicional_chain = LLMChain(\n",
    "    llm=chatModel,\n",
    "    prompt=prompt_template\n",
    ")\n",
    "\n",
    "tradicional_chain.predict(soccer_player=\"Messi\")"
   ]
  },
  {
   "cell_type": "markdown",
   "metadata": {},
   "source": [
    "### New LCEL Chain"
   ]
  },
  {
   "cell_type": "code",
   "execution_count": 4,
   "metadata": {},
   "outputs": [
    {
     "data": {
      "text/plain": [
       "'Percy es un nombre que puede referirse a varios personajes, pero uno de los más conocidos es Percy Jackson, el protagonista de la serie de libros escrita por Rick Riordan. Un dato curioso sobre Percy Jackson es que, además de ser un semidiós hijo de Poseidón, su nombre es un guiño a la mitología griega, ya que \"Percy\" es una forma abreviada de \"Perseus\", un héroe mitológico famoso por haber derrotado a la Gorgona Medusa. Además, Percy es un personaje que representa la mezcla de la cultura moderna con la mitología clásica, lo que ha atraído a una gran cantidad de jóvenes lectores a interesarse por la historia y la mitología.'"
      ]
     },
     "execution_count": 4,
     "metadata": {},
     "output_type": "execute_result"
    }
   ],
   "source": [
    "new_chain = prompt_template | chatModel | output_parser\n",
    "\n",
    "new_chain.invoke({\"soccer_player\": \"Percy\"})"
   ]
  }
 ],
 "metadata": {
  "kernelspec": {
   "display_name": "demoapp-IAmgORul-py3.12",
   "language": "python",
   "name": "python3"
  },
  "language_info": {
   "codemirror_mode": {
    "name": "ipython",
    "version": 3
   },
   "file_extension": ".py",
   "mimetype": "text/x-python",
   "name": "python",
   "nbconvert_exporter": "python",
   "pygments_lexer": "ipython3",
   "version": "3.12.7"
  }
 },
 "nbformat": 4,
 "nbformat_minor": 2
}
