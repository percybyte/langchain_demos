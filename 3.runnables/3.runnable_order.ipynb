{
 "cells": [
  {
   "cell_type": "markdown",
   "metadata": {},
   "source": [
    "## LCEL Chain\n",
    "- Una cadena LCEL es una secuencia de Runnables\n",
    "- Casi cualquier componente en LangChain se puede usar como un Runnable\n",
    "- Usamos el operador `|` para encadenar los Runnables"
   ]
  },
  {
   "cell_type": "code",
   "execution_count": 4,
   "metadata": {},
   "outputs": [],
   "source": [
    "import os\n",
    "\n",
    "from dotenv import load_dotenv, find_dotenv\n",
    "from langchain_openai import ChatOpenAI\n",
    "from langchain_core.output_parsers import StrOutputParser\n",
    "from langchain_core.prompts import ChatPromptTemplate\n",
    "from langchain.chains import LLMChain\n",
    "\n",
    "_ = load_dotenv(find_dotenv())\n",
    "openai_api_key = os.environ['OPENAI_API_KEY']\n",
    "model_llm = ChatOpenAI(model=\"gpt-4o-mini\")\n",
    "output_parser = StrOutputParser()\n"
   ]
  },
  {
   "cell_type": "code",
   "execution_count": 5,
   "metadata": {},
   "outputs": [],
   "source": [
    "prompt = ChatPromptTemplate.from_template(\"Dime algo curioso sobre {soccer_player}\")\n",
    "parser = StrOutputParser()\n",
    "\n",
    "\n",
    "# Armamos nuestra cadena\n",
    "chain = prompt | model_llm | parser\n"
   ]
  },
  {
   "cell_type": "code",
   "execution_count": 6,
   "metadata": {},
   "outputs": [
    {
     "data": {
      "text/plain": [
       "'Percy es un personaje de la serie \"Percy Jackson y los dioses del Olimpo\", creada por Rick Riordan. Una curiosidad interesante sobre Percy es que, además de ser hijo de Poseidón, tiene la habilidad de comunicarse con criaturas marinas. Esta habilidad no solo le permite entender a los animales del océano, sino que también puede convocarlos y pedirles ayuda en situaciones difíciles. Esta conexión con el agua y las criaturas marinas resalta su naturaleza como semidiós y su herencia divina. Además, su nombre, Percy, proviene de \"Perseus\", un héroe griego, lo que también lo vincula con la mitología clásica.'"
      ]
     },
     "execution_count": 6,
     "metadata": {},
     "output_type": "execute_result"
    }
   ],
   "source": [
    "'''\n",
    "El método .invoke se ejecuta en cada uno de los Runnables\n",
    "- Primero en el promp template\n",
    "- Luego, se aplica en el modelo una vez que se ha obtenido el prompt del usuario\n",
    "- Y finalmente, se aplica este método en el parser para obtener una salida con el formato esperado\n",
    "'''\n",
    "\n",
    "chain.invoke({\"soccer_player\": \"Percy\"})"
   ]
  },
  {
   "cell_type": "markdown",
   "metadata": {},
   "source": [
    "![alt text](./lcel-2.png)"
   ]
  }
 ],
 "metadata": {
  "kernelspec": {
   "display_name": "langchain-demos-9seDwfcA-py3.12",
   "language": "python",
   "name": "python3"
  },
  "language_info": {
   "codemirror_mode": {
    "name": "ipython",
    "version": 3
   },
   "file_extension": ".py",
   "mimetype": "text/x-python",
   "name": "python",
   "nbconvert_exporter": "python",
   "pygments_lexer": "ipython3",
   "version": "3.12.7"
  }
 },
 "nbformat": 4,
 "nbformat_minor": 2
}
