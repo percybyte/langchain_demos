{
 "cells": [
  {
   "cell_type": "code",
   "execution_count": 4,
   "id": "a16ca4c8-60e1-47b6-96f2-d0598293a361",
   "metadata": {},
   "outputs": [],
   "source": [
    "import os\n",
    "\n",
    "from dotenv import load_dotenv, find_dotenv\n",
    "from langchain_openai import ChatOpenAI\n",
    "from langchain_core.output_parsers import StrOutputParser\n",
    "from langchain_core.prompts import ChatPromptTemplate\n",
    "\n",
    "\n",
    "_ = load_dotenv(find_dotenv())\n",
    "openai_api_key = os.environ['OPENAI_API_KEY']"
   ]
  },
  {
   "cell_type": "code",
   "execution_count": 7,
   "id": "f5d3cb15-a8f7-4482-960e-32645205ceb5",
   "metadata": {},
   "outputs": [],
   "source": [
    "\n",
    "chatModel = ChatOpenAI(model=\"gpt-4o-mini\")\n",
    "\n",
    "prompt = ChatPromptTemplate.from_template(\"Dime algo curioso sobre {politician}\")\n",
    "\n",
    "chain = prompt | chatModel | StrOutputParser()\n"
   ]
  },
  {
   "cell_type": "code",
   "execution_count": 8,
   "id": "0e7d5bda",
   "metadata": {},
   "outputs": [
    {
     "data": {
      "text/plain": [
       "'Dina Boluarte es la primera mujer en asumir la presidencia de Perú, habiendo asumido el cargo en diciembre de 2022 tras la destitución de Pedro Castillo. Un dato curioso sobre ella es que, antes de entrar en la política, Boluarte trabajó como notaria pública. Además, su carrera política comenzó en 2018, cuando se unió al partido Perú Libre y fue elegida como primera vicepresidenta en las elecciones de 2021. Su ascenso en la política peruana ha sido notable, dado que logró llegar a la presidencia en un contexto de gran inestabilidad política en el país.'"
      ]
     },
     "execution_count": 8,
     "metadata": {},
     "output_type": "execute_result"
    }
   ],
   "source": [
    "chain.invoke({\"politician\": \"Dina Boluarte\"})"
   ]
  }
 ],
 "metadata": {
  "kernelspec": {
   "display_name": "demoapp-IAmgORul-py3.12",
   "language": "python",
   "name": "python3"
  },
  "language_info": {
   "codemirror_mode": {
    "name": "ipython",
    "version": 3
   },
   "file_extension": ".py",
   "mimetype": "text/x-python",
   "name": "python",
   "nbconvert_exporter": "python",
   "pygments_lexer": "ipython3",
   "version": "3.12.7"
  }
 },
 "nbformat": 4,
 "nbformat_minor": 5
}
