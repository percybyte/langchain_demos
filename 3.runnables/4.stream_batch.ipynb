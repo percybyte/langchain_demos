{
 "cells": [
  {
   "cell_type": "markdown",
   "metadata": {},
   "source": [
    "## Alternativas para ejecutar un Runnable\n",
    "Tenemos otras alternativas, tales como:\n",
    "- Invoke\n",
    "- Stream\n",
    "- Batch"
   ]
  },
  {
   "cell_type": "code",
   "execution_count": 5,
   "metadata": {},
   "outputs": [],
   "source": [
    "import os\n",
    "\n",
    "from dotenv import load_dotenv, find_dotenv\n",
    "from langchain_openai import ChatOpenAI\n",
    "from langchain_core.output_parsers import StrOutputParser\n",
    "from langchain_core.prompts import ChatPromptTemplate\n",
    "from langchain.chains import LLMChain\n",
    "from langchain_core.messages.human import HumanMessage\n",
    "from langchain_core.messages.ai import AIMessage\n",
    "\n",
    "_ = load_dotenv(find_dotenv())\n",
    "openai_api_key = os.environ['OPENAI_API_KEY']\n",
    "model_llm = ChatOpenAI(model=\"gpt-4o-mini\")\n",
    "output_parser = StrOutputParser()"
   ]
  },
  {
   "cell_type": "code",
   "execution_count": 10,
   "metadata": {},
   "outputs": [],
   "source": [
    "prompt = ChatPromptTemplate.from_template(\"Dime algo curioso sobre {soccer_player}\")\n",
    "parser = StrOutputParser()\n",
    "\n",
    "\n",
    "# Armamos nuestra cadena\n",
    "#chain = prompt | model_llm | parser\n",
    "chain = prompt | model_llm\n"
   ]
  },
  {
   "cell_type": "code",
   "execution_count": null,
   "metadata": {},
   "outputs": [
    {
     "data": {
      "text/plain": [
       "'One curious fact about Cristiano Ronaldo is that he does not have any tattoos on his body. Despite the fact that many professional athletes have tattoos, Ronaldo has chosen to keep his body ink-free.'"
      ]
     },
     "execution_count": 7,
     "metadata": {},
     "output_type": "execute_result"
    }
   ],
   "source": [
    "# Podemos aplicar el método .invoke a la entrada del usuario\n",
    "#prompt.invoke({\"soccer_player\": \"Percy\"})\n",
    "\n",
    "# Una vez completado, aplicamos el método .invoke al modelo\n",
    "#output_after_first_step = [HumanMessage(content='tell me a curious fact about Ronaldo')]\n",
    "#model_llm.invoke(output_after_first_step)\n",
    "\n",
    "# Finalmente podemos aplicar este método al formateador de la salida\n",
    "#output_after_second_step = AIMessage(content='One curious fact about Cristiano Ronaldo is that he does not have any tattoos on his body. Despite the fact that many professional athletes have tattoos, Ronaldo has chosen to keep his body ink-free.', response_metadata={'token_usage': {'completion_tokens': 38, 'prompt_tokens': 14, 'total_tokens': 52}, 'model_name': 'gpt-3.5-turbo-0125', 'system_fingerprint': None, 'finish_reason': 'stop', 'logprobs': None}, id='run-c9812511-043a-458a-bfb8-005bc0d057fb-0', usage_metadata={'input_tokens': 14, 'output_tokens': 38, 'total_tokens': 52})\n",
    "#parser.invoke(output_after_second_step)"
   ]
  },
  {
   "cell_type": "code",
   "execution_count": 13,
   "metadata": {},
   "outputs": [
    {
     "data": {
      "text/plain": [
       "[AIMessage(content='Una curiosidad interesante sobre Lionel Messi es que, a pesar de ser considerado uno de los mejores futbolistas de todos los tiempos, sufrió de deficiencia de la hormona del crecimiento durante su infancia. Esta condición le impidió crecer adecuadamente y, a los 11 años, su familia tomó la decisión de trasladarse a España para que pudiera unirse a la cantera del FC Barcelona, que se comprometió a cubrir los costos de su tratamiento médico. Esa decisión cambió su vida y, por supuesto, el fútbol mundial. A lo largo de su carrera, Messi ha superado muchas adversidades y ha demostrado que con talento y determinación se pueden alcanzar grandes logros.', additional_kwargs={'refusal': None}, response_metadata={'token_usage': {'completion_tokens': 137, 'prompt_tokens': 13, 'total_tokens': 150, 'completion_tokens_details': {'audio_tokens': None, 'reasoning_tokens': 0}, 'prompt_tokens_details': {'audio_tokens': None, 'cached_tokens': 0}}, 'model_name': 'gpt-4o-mini-2024-07-18', 'system_fingerprint': 'fp_f59a81427f', 'finish_reason': 'stop', 'logprobs': None}, id='run-42689a95-50e1-44a9-a090-d87dd5043acb-0', usage_metadata={'input_tokens': 13, 'output_tokens': 137, 'total_tokens': 150, 'input_token_details': {'cache_read': 0}, 'output_token_details': {'reasoning': 0}}),\n",
       " AIMessage(content='Una curiosidad interesante sobre Neymar es que, además de su talento en el fútbol, es un apasionado gamer y ha participado en varios torneos de videojuegos. Es conocido por jugar títulos como \"Call of Duty\" y \"FIFA\", y en varias ocasiones ha compartido su afición por el gaming en redes sociales. Además, ha sido embajador de marcas de videojuegos y ha hecho apariciones en eventos relacionados con este mundo, mostrando que su pasión por el entretenimiento va más allá del fútbol.', additional_kwargs={'refusal': None}, response_metadata={'token_usage': {'completion_tokens': 100, 'prompt_tokens': 13, 'total_tokens': 113, 'completion_tokens_details': {'audio_tokens': None, 'reasoning_tokens': 0}, 'prompt_tokens_details': {'audio_tokens': None, 'cached_tokens': 0}}, 'model_name': 'gpt-4o-mini-2024-07-18', 'system_fingerprint': 'fp_0ba0d124f1', 'finish_reason': 'stop', 'logprobs': None}, id='run-ccc4a8fb-d359-4433-8139-8cefe4323e3e-0', usage_metadata={'input_tokens': 13, 'output_tokens': 100, 'total_tokens': 113, 'input_token_details': {'cache_read': 0}, 'output_token_details': {'reasoning': 0}})]"
      ]
     },
     "execution_count": 13,
     "metadata": {},
     "output_type": "execute_result"
    }
   ],
   "source": [
    "# Ejectar con Stream para mostrar la salida del mensaje de forma interactiva\n",
    "#for s in chain.stream({\"soccer_player\": \"Rooney\"}):\n",
    "#   print(s.content, end=\"\", flush=True)\n",
    "\n",
    "\n",
    "\n",
    "# Ejecutar el chain con dos entradas de usuario\n",
    "chain.batch([{\"soccer_player\": \"Messi\"}, {\"soccer_player\": \"Neymar\"}])"
   ]
  },
  {
   "cell_type": "markdown",
   "metadata": {},
   "source": [
    "Podemos usar estos métodos también de forma asíncrona:\n",
    "```\n",
    "chain.ainvoke()\n",
    "chain.astream()\n",
    "chain.abatch()\n",
    "```"
   ]
  }
 ],
 "metadata": {
  "kernelspec": {
   "display_name": "langchain-demos-9seDwfcA-py3.12",
   "language": "python",
   "name": "python3"
  },
  "language_info": {
   "codemirror_mode": {
    "name": "ipython",
    "version": 3
   },
   "file_extension": ".py",
   "mimetype": "text/x-python",
   "name": "python",
   "nbconvert_exporter": "python",
   "pygments_lexer": "ipython3",
   "version": "3.12.7"
  }
 },
 "nbformat": 4,
 "nbformat_minor": 2
}
