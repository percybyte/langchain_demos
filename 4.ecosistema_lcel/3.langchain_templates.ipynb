{
 "cells": [
  {
   "cell_type": "markdown",
   "metadata": {},
   "source": [
    "## LangChain Templates"
   ]
  },
  {
   "cell_type": "markdown",
   "metadata": {},
   "source": [
    "Estos comandos se ingresan a través de la terminal:"
   ]
  },
  {
   "cell_type": "markdown",
   "metadata": {},
   "source": [
    "** Instalar LangChain Client en la terminal **"
   ]
  },
  {
   "cell_type": "code",
   "execution_count": null,
   "metadata": {
    "vscode": {
     "languageId": "plaintext"
    }
   },
   "outputs": [],
   "source": [
    "#install -U \"langchain-cli[serve]\""
   ]
  },
  {
   "cell_type": "markdown",
   "metadata": {},
   "source": [
    "**Crea una nueva aplicación LangChain desde la terminal con la plantilla rag-conversation**"
   ]
  },
  {
   "cell_type": "code",
   "execution_count": null,
   "metadata": {
    "vscode": {
     "languageId": "plaintext"
    }
   },
   "outputs": [],
   "source": [
    "#langchain app new my_app --package rag-conversation"
   ]
  },
  {
   "cell_type": "markdown",
   "metadata": {},
   "source": [
    "**Esto creará una carpeta my_app con lo siguiente:**\n",
    "* carpeta de aplicaciones\n",
    "    * server.py: tiene langserve preinstalado\n",
    "* carpeta de paquetes\n",
    "    * rag-conversation\n",
    "        * rag-conversation\n",
    "        * test\n",
    "* pyproject.toml\n",
    "* readme.md"
   ]
  },
  {
   "cell_type": "markdown",
   "metadata": {
    "vscode": {
     "languageId": "plaintext"
    }
   },
   "source": [
    "**Cuando confirmes en la terminal que quieres ejecutar la instalación, se te mostrará un fragmento de código que debes agregar al archivo server.py. Esta parece ser una forma temporal de hacer las cosas.**"
   ]
  },
  {
   "cell_type": "markdown",
   "metadata": {},
   "source": [
    "**Vaya a la carpeta my_app y ejecute: langchain serve**"
   ]
  },
  {
   "cell_type": "markdown",
   "metadata": {},
   "source": [
    "[Demo video from LangChain](https://www.youtube.com/watch?v=o7C9ld6Ln-M)"
   ]
  }
 ],
 "metadata": {
  "language_info": {
   "name": "python"
  }
 },
 "nbformat": 4,
 "nbformat_minor": 2
}
