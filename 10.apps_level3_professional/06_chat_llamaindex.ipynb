{
 "cells": [
  {
   "cell_type": "markdown",
   "id": "39b79c39-9e21-4621-8cfb-5c70c45e9adb",
   "metadata": {},
   "source": [
    "## Full Stack App: RAG Chat-LlamaIndex\n",
    "* [Documentation.](https://github.com/run-llama/chat-llamaindex)\n",
    "* [Live Demo.](https://chat-llamaindex.vercel.app/)\n",
    "    * No user authentication required."
   ]
  },
  {
   "cell_type": "markdown",
   "id": "063d5ec6-b3af-40b5-8049-258c748500ab",
   "metadata": {},
   "source": [
    "## Features\n",
    "* Typescript-version of LlamaIndex.\n",
    "* It is like the create-llama starter template with Node.js Serverless but this one allows uploading documents instead of placing them in a folder.\n",
    "* However, this app does not use databases nor a CRUD API."
   ]
  },
  {
   "cell_type": "code",
   "execution_count": null,
   "id": "ca0fda50-13b5-4ea3-b927-1447e09d3568",
   "metadata": {},
   "outputs": [],
   "source": []
  }
 ],
 "metadata": {
  "kernelspec": {
   "display_name": "Python 3 (ipykernel)",
   "language": "python",
   "name": "python3"
  },
  "language_info": {
   "codemirror_mode": {
    "name": "ipython",
    "version": 3
   },
   "file_extension": ".py",
   "mimetype": "text/x-python",
   "name": "python",
   "nbconvert_exporter": "python",
   "pygments_lexer": "ipython3",
   "version": "3.11.4"
  }
 },
 "nbformat": 4,
 "nbformat_minor": 5
}
