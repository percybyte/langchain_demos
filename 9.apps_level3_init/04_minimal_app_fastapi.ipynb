{
 "cells": [
  {
   "cell_type": "markdown",
   "id": "991f567c-d986-43b3-bf51-e17a7c2fa51f",
   "metadata": {},
   "source": [
    "## Minimal LangChain + FastAPI starterkit\n",
    "* LLM-powered backend web service\n",
    "* [Blog Post](https://blog.timleers.com/a-stupidly-minimal-llm-api-starterkit-deploy-llm-endpoints-in-a-minute-with-langchain-and-fastapi)\n",
    "* [Repo](https://github.com/tleers/llm-api-starterkit)"
   ]
  },
  {
   "cell_type": "markdown",
   "id": "476c8b55-4023-4eb3-bed0-cf1f81b63129",
   "metadata": {},
   "source": [
    "## Installation\n",
    "* clone git repo\n",
    "* rename .env.example to .env\n",
    "* enter OpenAI key in .env"
   ]
  },
  {
   "cell_type": "markdown",
   "id": "d8945cd0-9557-4a25-9e58-7584041a63ba",
   "metadata": {},
   "source": [
    "## Start backend app"
   ]
  },
  {
   "cell_type": "code",
   "execution_count": null,
   "id": "e24cea1d-44af-4eee-affb-83cc851cb3cc",
   "metadata": {},
   "outputs": [],
   "source": [
    "#uvicorn app.main_openai:app --port 8000 --env-file .env"
   ]
  },
  {
   "cell_type": "markdown",
   "id": "a9aba524-43be-46c1-97a7-acbc49beae2f",
   "metadata": {},
   "source": [
    "## Go to http://127.0.0.1:8000/docs"
   ]
  },
  {
   "cell_type": "code",
   "execution_count": null,
   "id": "9b12cb4a-56b6-4094-9da4-cacde4c392dc",
   "metadata": {},
   "outputs": [],
   "source": []
  }
 ],
 "metadata": {
  "kernelspec": {
   "display_name": "Python 3 (ipykernel)",
   "language": "python",
   "name": "python3"
  },
  "language_info": {
   "codemirror_mode": {
    "name": "ipython",
    "version": 3
   },
   "file_extension": ".py",
   "mimetype": "text/x-python",
   "name": "python",
   "nbconvert_exporter": "python",
   "pygments_lexer": "ipython3",
   "version": "3.10.13"
  }
 },
 "nbformat": 4,
 "nbformat_minor": 5
}
