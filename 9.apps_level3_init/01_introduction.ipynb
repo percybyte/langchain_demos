{
 "cells": [
  {
   "cell_type": "markdown",
   "id": "5b219a9a-30d8-453a-bf60-5e3c9324b753",
   "metadata": {},
   "source": [
    "## NextJS\n",
    "* [nextjs.org](https://nextjs.org/)\n",
    "* React Framework to create web applications\n",
    "* [documentation](https://nextjs.org/docs)\n",
    "* [from react to nextjs: intro](https://nextjs.org/learn-pages-router/foundations/about-nextjs)\n",
    "    * From Javascript to React\n",
    "        * Essential Javascript for React\n",
    "        * React core concepts: components, props and state\n",
    "    * From React to Next.js\n",
    "        * npm\n",
    "        * package.json\n",
    "        * npm install react react-dom next\n",
    "        * /node_modules\n",
    "        * import {useState} from 'react'\n",
    "        * change index.html to index.js or index.jsx\n",
    "        * /pages\n",
    "        * add script in package.json to run nextjs dev server\n",
    "        * npm run dev\n",
    "        * Fast Refresh\n",
    "    * How Next.js works\n",
    "        * From development to production: compile, minify, etc\n",
    "    * Create a Next.js App\n",
    "        * Setup: node\n",
    "        * create-next-app\n",
    "        * starter template\n",
    "        * npx create-next-app@latest nextjs-blog --use-npm --example \"https://github.com/vercel/next-learn/tree/main/basics/learn-starter\"\n",
    "        * Navigate between pages\n",
    "        * Assets, metadata and CSS\n",
    "        * Pre-rendering and Data Fetching\n",
    "        * Dynamic routes\n",
    "        * API routes\n",
    "        * Deploying your Next.js app to Vercel and other options"
   ]
  },
  {
   "cell_type": "markdown",
   "id": "c9671195-b8e0-4e78-acef-ebf0807f7ee8",
   "metadata": {},
   "source": [
    "## Vercel\n",
    "* [What does Vercel do?](https://vercel.com/blog/what-is-vercel)\n",
    "* [Getting started guide](https://vercel.com/docs/getting-started-with-vercel)\n",
    "* [Find your Vercel Template](https://vercel.com/templates)\n",
    "* [Find Integrations for your Vercel app](https://vercel.com/integrations#security)\n",
    "* [Vercel guides on specific topics](https://vercel.com/guides)\n",
    "* [Vercel plans and pricing](https://vercel.com/pricing)"
   ]
  },
  {
   "cell_type": "code",
   "execution_count": null,
   "id": "651d479c-cc32-49bd-80b8-d87788feded2",
   "metadata": {},
   "outputs": [],
   "source": []
  }
 ],
 "metadata": {
  "kernelspec": {
   "display_name": "Python 3 (ipykernel)",
   "language": "python",
   "name": "python3"
  },
  "language_info": {
   "codemirror_mode": {
    "name": "ipython",
    "version": 3
   },
   "file_extension": ".py",
   "mimetype": "text/x-python",
   "name": "python",
   "nbconvert_exporter": "python",
   "pygments_lexer": "ipython3",
   "version": "3.11.4"
  }
 },
 "nbformat": 4,
 "nbformat_minor": 5
}
